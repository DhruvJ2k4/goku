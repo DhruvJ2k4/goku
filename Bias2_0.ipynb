{
  "nbformat": 4,
  "nbformat_minor": 0,
  "metadata": {
    "colab": {
      "provenance": [],
      "authorship_tag": "ABX9TyMW/u3rU9uxLo5g2Cmk+ar7",
      "include_colab_link": true
    },
    "kernelspec": {
      "name": "python3",
      "display_name": "Python 3"
    },
    "language_info": {
      "name": "python"
    }
  },
  "cells": [
    {
      "cell_type": "markdown",
      "metadata": {
        "id": "view-in-github",
        "colab_type": "text"
      },
      "source": [
        "<a href=\"https://colab.research.google.com/github/DhruvJ2k4/goku/blob/main/Bias2_0.ipynb\" target=\"_parent\"><img src=\"https://colab.research.google.com/assets/colab-badge.svg\" alt=\"Open In Colab\"/></a>"
      ]
    },
    {
      "cell_type": "code",
      "source": [
        "!pip install ucimlrepo"
      ],
      "metadata": {
        "colab": {
          "base_uri": "https://localhost:8080/"
        },
        "id": "1iIBPQs3P4RW",
        "outputId": "1ffe9650-a7e7-44d1-f314-c4d2c67cfb2d"
      },
      "execution_count": 33,
      "outputs": [
        {
          "output_type": "stream",
          "name": "stdout",
          "text": [
            "Requirement already satisfied: ucimlrepo in /usr/local/lib/python3.11/dist-packages (0.0.7)\n",
            "Requirement already satisfied: pandas>=1.0.0 in /usr/local/lib/python3.11/dist-packages (from ucimlrepo) (2.2.2)\n",
            "Requirement already satisfied: certifi>=2020.12.5 in /usr/local/lib/python3.11/dist-packages (from ucimlrepo) (2025.6.15)\n",
            "Requirement already satisfied: numpy>=1.23.2 in /usr/local/lib/python3.11/dist-packages (from pandas>=1.0.0->ucimlrepo) (2.0.2)\n",
            "Requirement already satisfied: python-dateutil>=2.8.2 in /usr/local/lib/python3.11/dist-packages (from pandas>=1.0.0->ucimlrepo) (2.9.0.post0)\n",
            "Requirement already satisfied: pytz>=2020.1 in /usr/local/lib/python3.11/dist-packages (from pandas>=1.0.0->ucimlrepo) (2025.2)\n",
            "Requirement already satisfied: tzdata>=2022.7 in /usr/local/lib/python3.11/dist-packages (from pandas>=1.0.0->ucimlrepo) (2025.2)\n",
            "Requirement already satisfied: six>=1.5 in /usr/local/lib/python3.11/dist-packages (from python-dateutil>=2.8.2->pandas>=1.0.0->ucimlrepo) (1.17.0)\n"
          ]
        }
      ]
    },
    {
      "cell_type": "markdown",
      "source": [
        "\n",
        "## Explanation of Core Logistic Regression Concepts\n",
        "\n",
        "### Sigmoid Function\n",
        "\n",
        "The sigmoid function, also known as the logistic function, is a crucial component of logistic regression. Its primary purpose is to take any real-valued number and map it to a value between 0 and 1. This output can then be interpreted as a probability. In the context of binary classification, this probability represents the likelihood that a given input belongs to the positive class.\n",
        "\n",
        "The mathematical formula for the sigmoid function, denoted by $\\sigma(z)$, is:\n",
        "\n",
        "$$ \\sigma(z) = \\frac{1}{1 + e^{-z}} $$\n",
        "\n",
        "Here, $z$ is the linear combination of the input features and the model's weights and bias ($z = \\mathbf{w} \\cdot \\mathbf{x} + b$). The sigmoid function squashes this linear output into the (0, 1) range, making it suitable for probabilistic interpretation.\n",
        "\n",
        "### Binary Cross-Entropy Loss Function\n",
        "\n",
        "The binary cross-entropy loss function is commonly used in binary classification problems to measure the performance of a logistic regression model. It quantifies how well the model's predicted probabilities align with the actual class labels. The goal during training is to minimize this loss function.\n",
        "\n",
        "The binary cross-entropy loss is particularly suitable for binary classification because it heavily penalizes predictions that are confident but incorrect. For example, if the true label is 1 but the model predicts a probability close to 0, the loss will be very high. Conversely, if the true label is 1 and the model predicts a probability close to 1, the loss will be low.\n",
        "\n",
        "The mathematical formula for the binary cross-entropy loss for a single training example is:\n",
        "\n",
        "$$ L(\\hat{y}, y) = - [y \\log(\\hat{y}) + (1 - y) \\log(1 - \\hat{y})] $$\n",
        "\n",
        "Where:\n",
        "- $y$ is the actual class label (0 or 1).\n",
        "- $\\hat{y}$ is the predicted probability of the positive class (output of the sigmoid function).\n",
        "\n",
        "For a dataset of $N$ training examples, the total binary cross-entropy loss is typically the average loss over all examples:\n",
        "\n",
        "$$ J(\\mathbf{w}, b) = - \\frac{1}{N} \\sum_{i=1}^{N} [y^{(i)} \\log(\\hat{y}^{(i)}) + (1 - y^{(i)}) \\log(1 - \\hat{y}^{(i)})] $$\n",
        "\n",
        "Minimizing this function helps the model learn weights and a bias that produce predicted probabilities closer to the true labels."
      ],
      "metadata": {
        "id": "30a67ypkqekL"
      }
    },
    {
      "cell_type": "markdown",
      "source": [
        "## Explanation of Gradient Descent\n",
        "\n",
        "### Gradient Descent\n",
        "\n",
        "Gradient descent is an iterative optimization algorithm used to find the minimum of a function. In the context of machine learning, it's used to find the set of parameters (weights and bias) for a model that minimizes the loss function.\n",
        "\n",
        "The algorithm starts with an initial set of parameters and repeatedly updates them in the direction opposite to the gradient of the loss function. The gradient points in the direction of the steepest increase in the function, so moving in the opposite direction leads towards a minimum.\n",
        "\n",
        "The update rule for a parameter (e.g., a weight $w_j$ or the bias $b$) is:\n",
        "\n",
        "$$ \\theta_{new} = \\theta_{old} - \\alpha \\nabla J(\\theta_{old}) $$\n",
        "\n",
        "Where:\n",
        "- $\\theta$ represents a parameter (weight or bias).\n",
        "- $\\alpha$ is the learning rate, a small positive value that controls the step size of each update.\n",
        "- $\\nabla J(\\theta_{old})$ is the gradient of the loss function with respect to the parameter $\\theta$ at the current parameter values.\n",
        "\n",
        "The process continues for a fixed number of iterations or until the change in the loss function becomes very small.\n",
        "\n",
        "### Gradient Calculation in Logistic Regression\n",
        "\n",
        "To perform gradient descent for logistic regression, we need to calculate the partial derivatives of the binary cross-entropy loss function with respect to each weight ($w_j$) and the bias ($b$). These partial derivatives constitute the gradient.\n",
        "\n",
        "Using the chain rule, the partial derivative of the loss function with respect to a weight $w_j$ for a single training example is:\n",
        "\n",
        "$$ \\frac{\\partial L}{\\partial w_j} = (\\hat{y} - y) x_j $$\n",
        "\n",
        "And the partial derivative with respect to the bias $b$ is:\n",
        "\n",
        "$$ \\frac{\\partial L}{\\partial b} = (\\hat{y} - y) $$\n",
        "\n",
        "Where:\n",
        "- $\\hat{y}$ is the predicted probability (output of the sigmoid function).\n",
        "- $y$ is the actual class label.\n",
        "- $x_j$ is the value of the $j$-th feature for the training example.\n",
        "\n",
        "For the entire dataset, the gradient of the total loss function (average cross-entropy) with respect to each parameter is the average of the gradients for each training example:\n",
        "\n",
        "$$ \\frac{\\partial J}{\\partial w_j} = \\frac{1}{N} \\sum_{i=1}^{N} (\\hat{y}^{(i)} - y^{(i)}) x_j^{(i)} $$\n",
        "\n",
        "$$ \\frac{\\partial J}{\\partial b} = \\frac{1}{N} \\sum_{i=1}^{N} (\\hat{y}^{(i)} - y^{(i)}) $$\n",
        "\n",
        "These gradients are then used in the gradient descent update rule to iteratively adjust the weights and bias to minimize the loss function and train the logistic regression model."
      ],
      "metadata": {
        "id": "lAW1D7p0qii7"
      }
    },
    {
      "cell_type": "markdown",
      "source": [
        "## Importing Dataset:"
      ],
      "metadata": {
        "id": "11DUviqp4mP8"
      }
    },
    {
      "cell_type": "code",
      "metadata": {
        "id": "ed59cb98"
      },
      "source": [
        "import numpy as np\n",
        "import pandas as pd\n",
        "from ucimlrepo import fetch_ucirepo\n",
        "from sklearn.model_selection import train_test_split\n",
        "from sklearn.preprocessing import StandardScaler\n",
        "\n",
        "# Fetch the dataset\n",
        "default_of_credit_card_clients = fetch_ucirepo(id=350)\n",
        "\n",
        "X = default_of_credit_card_clients.data.features\n",
        "y = default_of_credit_card_clients.data.targets\n",
        "\n",
        "bias_features = ['X2', 'X1', 'X3', 'X4', 'X5', 'X6', 'X12', 'X18']\n",
        "X_bias = X[bias_features]\n",
        "\n",
        "# Split data\n",
        "X_train_b, X_test_b, y_train_b, y_test_b = train_test_split(X_bias, y, test_size=0.2, random_state=42)\n",
        "\n",
        "# Scale features\n",
        "scaler = StandardScaler()\n",
        "X_train_b_scaled = scaler.fit_transform(X_train_b)\n",
        "X_test_b_scaled = scaler.transform(X_test_b)\n",
        "\n",
        "if isinstance(y_train_b, pd.DataFrame):\n",
        "    y_train_b_np = y_train_b.values.reshape(-1, 1)\n",
        "else:\n",
        "    y_train_b_np = y_train_b.reshape(-1, 1)\n",
        "\n",
        "if isinstance(y_test_b, pd.DataFrame):\n",
        "    y_test_b_np = y_test_b.values.reshape(-1, 1)\n",
        "else:\n",
        "    y_test_b_np = y_test_b.reshape(-1, 1)\n",
        "\n",
        "X_train_b_np = X_train_b_scaled\n",
        "X_test_b_np = X_test_b_scaled"
      ],
      "execution_count": 34,
      "outputs": []
    },
    {
      "cell_type": "markdown",
      "metadata": {
        "id": "adb278fe"
      },
      "source": [
        "## Implement the sigmoid function\n"
      ]
    },
    {
      "cell_type": "code",
      "metadata": {
        "id": "2e8e5d9a"
      },
      "source": [
        "def sigmoid(z):\n",
        "  \"\"\"Calculates the sigmoid of z.\"\"\"\n",
        "  z = np.clip(z, -1000, 1000)\n",
        "  return 1 / (1 + np.exp(-z))"
      ],
      "execution_count": 35,
      "outputs": []
    },
    {
      "cell_type": "markdown",
      "metadata": {
        "id": "12681569"
      },
      "source": [
        "## Implement the loss function\n"
      ]
    },
    {
      "cell_type": "code",
      "metadata": {
        "id": "197acc63"
      },
      "source": [
        "def compute_loss(y_true, y_pred):\n",
        "  \"\"\"\n",
        "  Calculates the binary cross-entropy loss.\n",
        "\n",
        "  Args:\n",
        "    y_true: True labels (0 or 1), should be a column vector.\n",
        "    y_pred: Predicted probabilities, should be a column vector.\n",
        "\n",
        "  Returns:\n",
        "    The average binary cross-entropy loss.\n",
        "  \"\"\"\n",
        "  epsilon = 1e-15\n",
        "  y_pred = np.clip(y_pred, epsilon, 1 - epsilon)\n",
        "  y_true = y_true.reshape(-1, 1) if y_true.ndim == 1 else y_true\n",
        "  y_pred = y_pred.reshape(-1, 1) if y_pred.ndim == 1 else y_pred\n",
        "\n",
        "  loss = -np.mean(y_true * np.log(y_pred) + (1 - y_true) * np.log(1 - y_pred))\n",
        "  return loss"
      ],
      "execution_count": 36,
      "outputs": []
    },
    {
      "cell_type": "markdown",
      "metadata": {
        "id": "040c1e04"
      },
      "source": [
        "## Implement the gradient calculation\n"
      ]
    },
    {
      "cell_type": "code",
      "metadata": {
        "id": "dd2775ec"
      },
      "source": [
        "def compute_gradients(X, y_true, y_pred, n_samples):\n",
        "  \"\"\"\n",
        "  Calculates the gradients of the loss function with respect to weights and bias.\n",
        "\n",
        "  Args:\n",
        "    X: Features, should be a matrix (n_samples, n_features).\n",
        "    y_true: True labels (0 or 1), should be a column vector (n_samples, 1).\n",
        "    y_pred: Predicted probabilities, should be a column vector (n_samples, 1).\n",
        "    n_samples: Number of samples.\n",
        "\n",
        "  Returns:\n",
        "    A tuple containing the gradients for weights (dw, shape (n_features, 1)) and bias (db, scalar).\n",
        "  \"\"\"\n",
        "  y_true = y_true.reshape(-1, 1) if y_true.ndim == 1 else y_true\n",
        "  y_pred = y_pred.reshape(-1, 1) if y_pred.ndim == 1 else y_pred\n",
        "  error = y_pred - y_true\n",
        "  dw = (1 / n_samples) * np.dot(X.T, error)\n",
        "  db = (1 / n_samples) * np.sum(error)\n",
        "  return dw, db"
      ],
      "execution_count": 37,
      "outputs": []
    },
    {
      "cell_type": "markdown",
      "metadata": {
        "id": "b7daaf6f"
      },
      "source": [
        "## Implement the training loop\n"
      ]
    },
    {
      "cell_type": "code",
      "metadata": {
        "id": "b875eb32"
      },
      "source": [
        "def train_logistic_regression(X, y, learning_rate, n_epochs):\n",
        "  \"\"\"\n",
        "  Trains a logistic regression model using gradient descent.\n",
        "\n",
        "  Args:\n",
        "    X: Features (numpy array, shape (n_samples, n_features)).\n",
        "    y: True labels (numpy array, shape (n_samples, 1)).\n",
        "    learning_rate: The learning rate for gradient descent.\n",
        "    n_epochs: The number of training epochs.\n",
        "\n",
        "  Returns:\n",
        "    A tuple containing the trained weights (shape (n_features, 1)) and bias (scalar).\n",
        "  \"\"\"\n",
        "  n_samples, n_features = X.shape\n",
        "\n",
        "  # Initialize weights and bias\n",
        "  weights = np.zeros((n_features, 1))\n",
        "  bias = 0\n",
        "\n",
        "  # Store loss history\n",
        "  loss_history = []\n",
        "\n",
        "  for epoch in range(n_epochs):\n",
        "    # Calculate linear combination and apply sigmoid\n",
        "    linear_model = np.dot(X, weights) + bias\n",
        "    y_pred = sigmoid(linear_model)\n",
        "\n",
        "    # Calculate loss\n",
        "    loss = compute_loss(y, y_pred)\n",
        "    loss_history.append(loss)\n",
        "\n",
        "    # Calculate gradients\n",
        "    dw, db = compute_gradients(X, y, y_pred, n_samples)\n",
        "\n",
        "    # Update weights and bias\n",
        "    weights -= learning_rate * dw\n",
        "    bias -= learning_rate * db\n",
        "\n",
        "    if (epoch + 1) % 100 == 0:\n",
        "        print(f\"Epoch {epoch+1}/{n_epochs}, Loss: {loss:.4f}\")\n",
        "\n",
        "  return weights, bias"
      ],
      "execution_count": 38,
      "outputs": []
    },
    {
      "cell_type": "markdown",
      "metadata": {
        "id": "d7c62d68"
      },
      "source": [
        "## Train the model\n",
        "\n"
      ]
    },
    {
      "cell_type": "code",
      "metadata": {
        "colab": {
          "base_uri": "https://localhost:8080/"
        },
        "id": "191c6057",
        "outputId": "836d34d9-cbd5-4eba-cd95-566513b915dd"
      },
      "source": [
        "learning_rate = 0.05\n",
        "n_epochs = 1500\n",
        "\n",
        "weights, bias = train_logistic_regression(X_train_b_np, y_train_b_np, learning_rate, n_epochs)"
      ],
      "execution_count": 39,
      "outputs": [
        {
          "output_type": "stream",
          "name": "stdout",
          "text": [
            "Epoch 100/1500, Loss: 0.5047\n",
            "Epoch 200/1500, Loss: 0.4783\n",
            "Epoch 300/1500, Loss: 0.4721\n",
            "Epoch 400/1500, Loss: 0.4702\n",
            "Epoch 500/1500, Loss: 0.4696\n",
            "Epoch 600/1500, Loss: 0.4694\n",
            "Epoch 700/1500, Loss: 0.4693\n",
            "Epoch 800/1500, Loss: 0.4693\n",
            "Epoch 900/1500, Loss: 0.4692\n",
            "Epoch 1000/1500, Loss: 0.4692\n",
            "Epoch 1100/1500, Loss: 0.4692\n",
            "Epoch 1200/1500, Loss: 0.4692\n",
            "Epoch 1300/1500, Loss: 0.4692\n",
            "Epoch 1400/1500, Loss: 0.4692\n",
            "Epoch 1500/1500, Loss: 0.4692\n"
          ]
        }
      ]
    },
    {
      "cell_type": "markdown",
      "metadata": {
        "id": "abc178f6"
      },
      "source": [
        "## Make predictions\n"
      ]
    },
    {
      "cell_type": "code",
      "metadata": {
        "id": "2adbae81"
      },
      "source": [
        "def predict(X, weights, bias, threshold=0.5):\n",
        "  \"\"\"\n",
        "  Makes predictions using the trained logistic regression model.\n",
        "\n",
        "  Args:\n",
        "    X: Features (numpy array, shape (n_samples, n_features)).\n",
        "    weights: Trained weights (shape (n_features, 1)).\n",
        "    bias: Trained bias (scalar).\n",
        "    threshold: The threshold for converting probabilities to binary predictions.\n",
        "\n",
        "  Returns:\n",
        "    Binary predictions (0 or 1), shape (n_samples, 1).\n",
        "  \"\"\"\n",
        "  linear_model = np.dot(X, weights) + bias\n",
        "  y_predicted_proba = sigmoid(linear_model)\n",
        "  y_predicted_cls = (y_predicted_proba >= threshold).astype(int)\n",
        "  return y_predicted_cls"
      ],
      "execution_count": 40,
      "outputs": []
    },
    {
      "cell_type": "code",
      "metadata": {
        "id": "11d5d035"
      },
      "source": [
        "y_pred_manual = predict(X_test_b_np, weights, bias)"
      ],
      "execution_count": 41,
      "outputs": []
    },
    {
      "cell_type": "markdown",
      "metadata": {
        "id": "a01599ca"
      },
      "source": [
        "## Evaluate and analyze bias\n"
      ]
    },
    {
      "cell_type": "code",
      "metadata": {
        "colab": {
          "base_uri": "https://localhost:8080/"
        },
        "id": "d7dd16c1",
        "outputId": "82e142f5-25fb-4d32-c964-5b6924ad39e8"
      },
      "source": [
        "from sklearn.metrics import recall_score, accuracy_score\n",
        "import matplotlib.pyplot as plt\n",
        "\n",
        "X_test_b_df = X_test_b.copy()\n",
        "X_test_b_df['gender'] = X_test_b_df['X2']\n",
        "X_test_b_df['true'] = y_test_b_np.flatten()\n",
        "y_pred_manual_flat = y_pred_manual.flatten() if y_pred_manual.ndim > 1 else y_pred_manual\n",
        "X_test_b_df['pred'] = y_pred_manual_flat\n",
        "\n",
        "\n",
        "# Separate by gender\n",
        "male = X_test_b_df[X_test_b_df['gender'] == 1]\n",
        "female = X_test_b_df[X_test_b_df['gender'] == 2]\n",
        "\n",
        "# Positive prediction rates\n",
        "positive_rate_male = male['pred'].mean()\n",
        "positive_rate_female = female['pred'].mean()\n",
        "\n",
        "# Demographic Parity Difference\n",
        "dpd = positive_rate_female - positive_rate_male\n",
        "\n",
        "# Disparate Impact Ratio (DIR)\n",
        "dir_ratio = positive_rate_female / positive_rate_male if positive_rate_male != 0 else np.inf\n",
        "\n",
        "\n",
        "# True Positive Rate (Recall)\n",
        "tpr_male = recall_score(male['true'], male['pred'])\n",
        "tpr_female = recall_score(female['true'], female['pred'])\n",
        "\n",
        "# Equal Opportunity Difference (Female TPR - Male TPR)\n",
        "eod = tpr_female - tpr_male\n",
        "\n",
        "# Accuracy for each group\n",
        "acc_male = accuracy_score(male['true'], male['pred'])\n",
        "acc_female = accuracy_score(female['true'], female['pred'])\n",
        "\n",
        "# Accuracy Difference\n",
        "acc_diff = acc_female - acc_male\n",
        "\n",
        "print(\"Fairness Metrics for Manual Logistic Regression:\")\n",
        "print(f\"Demographic Parity Difference (Female - Male): {dpd:.4f}  # closer to 0 = fairer\")\n",
        "print(f\"Disparate Impact Ratio (Female / Male): {dir_ratio:.4f}     # closer to 1 = fairer, < 0.8 or > 1.25 may indicate bias\")\n",
        "print(f\"Equal Opportunity Difference (Female - Male TPR): {eod:.4f} # closer to 0 = fairer recall\")\n",
        "print(f\"Accuracy Difference (Female - Male): {acc_diff:.4f}         # closer to 0 = model performs equally\")"
      ],
      "execution_count": 42,
      "outputs": [
        {
          "output_type": "stream",
          "name": "stdout",
          "text": [
            "Fairness Metrics for Manual Logistic Regression:\n",
            "Demographic Parity Difference (Female - Male): -0.0130  # closer to 0 = fairer\n",
            "Disparate Impact Ratio (Female / Male): 0.8402     # closer to 1 = fairer, < 0.8 or > 1.25 may indicate bias\n",
            "Equal Opportunity Difference (Female - Male TPR): -0.0015 # closer to 0 = fairer recall\n",
            "Accuracy Difference (Female - Male): 0.0250         # closer to 0 = model performs equally\n"
          ]
        }
      ]
    },
    {
      "cell_type": "markdown",
      "metadata": {
        "id": "acf22101"
      },
      "source": [
        "## Visualize fairness metrics\n"
      ]
    },
    {
      "cell_type": "code",
      "metadata": {
        "colab": {
          "base_uri": "https://localhost:8080/",
          "height": 607
        },
        "id": "57594add",
        "outputId": "1efb8fa5-f909-4c1f-e9be-002ebee6559a"
      },
      "source": [
        "# Fairness metric values\n",
        "metrics = {\n",
        "    \"Demographic Parity Diff\": dpd,\n",
        "    \"Disparate Impact Ratio\": dir_ratio,\n",
        "    \"Equal Opportunity Diff\": eod,\n",
        "    \"Accuracy Difference\": acc_diff\n",
        "}\n",
        "\n",
        "colors = []\n",
        "for k, v in metrics.items():\n",
        "    if k in [\"Demographic Parity Diff\", \"Equal Opportunity Diff\", \"Accuracy Difference\"]:\n",
        "        colors.append('green' if abs(v) < 0.1 else 'red')\n",
        "    elif k == \"Disparate Impact Ratio\":\n",
        "        colors.append('green' if 0.8 <= v <= 1.25 else 'red')\n",
        "    else:\n",
        "        colors.append('gray')\n",
        "\n",
        "plt.figure(figsize=(10, 6))\n",
        "bars = plt.bar(metrics.keys(), metrics.values(), color=colors)\n",
        "plt.axhline(0, color='black', linewidth=0.8, linestyle='--')\n",
        "\n",
        "# Add value labels\n",
        "for bar in bars:\n",
        "    yval = bar.get_height()\n",
        "    plt.text(bar.get_x() + bar.get_width()/2, yval + 0.01 if yval >= 0 else yval - 0.05,\n",
        "             f'{yval:.4f}', ha='center', va='bottom' if yval >= 0 else 'top')\n",
        "\n",
        "plt.title(\"Fairness Metrics for Gender (Manual Logistic Regression)\")\n",
        "plt.ylabel(\"Metric Value\")\n",
        "plt.xticks(rotation=15)\n",
        "plt.tight_layout()\n",
        "plt.show()"
      ],
      "execution_count": 43,
      "outputs": [
        {
          "output_type": "display_data",
          "data": {
            "text/plain": [
              "<Figure size 1000x600 with 1 Axes>"
            ],
            "image/png": "[encoded data removed]"
          },
          "metadata": {}
        }
      ]
    },
    {
      "cell_type": "markdown",
      "metadata": {
        "id": "a602e096"
      },
      "source": [
        "## Summary:\n",
        "\n",
        "### Data Analysis Key Findings\n",
        "\n",
        "Based on the manual logistic regression model trained on the selected features of the Default of Credit Card Clients dataset, the fairness analysis reveals the following:\n",
        "\n",
        "*   **Demographic Parity Difference (-0.0130):** The model's positive prediction rate (predicting default) is very similar between genders.\n",
        "*   **Disparate Impact Ratio (0.8402):** This ratio is slightly below the commonly used threshold of 0.8, suggesting a minor difference in the likelihood of being predicted as a defaulter between genders.\n",
        "*   **Equal Opportunity Difference (-0.0015):** The model is nearly equally effective at identifying true defaulters for both genders.\n",
        "*   **Accuracy Difference (0.0250):** The model performs similarly well for both groups in terms of overall correct predictions.\n",
        "\n",
        "In summary, while the model shows good Equal Opportunity and overall Accuracy across genders, the Disparate Impact Ratio being slightly below 0.8 suggests a potential area for further investigation regarding how frequently each gender is predicted to default. This highlights the importance of examining multiple fairness metrics to get a comprehensive understanding of potential biases.\n",
        "\n"
      ]
    }
  ]
}